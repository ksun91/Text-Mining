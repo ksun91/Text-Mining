{
 "cells": [
  {
   "cell_type": "markdown",
   "metadata": {},
   "source": [
    "# Text Cleaning, Feature Extraction, and Supervise Learning on Potential Insults"
   ]
  },
  {
   "cell_type": "markdown",
   "metadata": {},
   "source": [
    "### Warning: Some commentary in the dataset contains profanity and harsh language which may not be suitable for some audiences"
   ]
  },
  {
   "cell_type": "code",
   "execution_count": 1,
   "metadata": {
    "collapsed": true
   },
   "outputs": [],
   "source": [
    "# Data came from Kaggle's Impermium competition\n",
    "# https://www.kaggle.com/c/detecting-insults-in-social-commentary/data?train.csv\n",
    "\n",
    "# download train.csv as the training set and\n",
    "# impermium_verification_labels.csv as the test set"
   ]
  },
  {
   "cell_type": "code",
   "execution_count": 2,
   "metadata": {
    "collapsed": false
   },
   "outputs": [],
   "source": [
    "# Data\n",
    "import pandas as pd\n",
    "import numpy as np\n",
    "import csv\n",
    "\n",
    "# Text Data\n",
    "from bs4 import BeautifulSoup\n",
    "import re\n",
    "import nltk\n",
    "from nltk import pos_tag\n",
    "from nltk.stem import WordNetLemmatizer\n",
    "from nltk.corpus import stopwords, wordnet\n",
    "from sklearn.feature_extraction.text import TfidfVectorizer\n",
    "from io import StringIO\n",
    "\n",
    "\n",
    "# Plotting\n",
    "%matplotlib inline\n",
    "import seaborn as sns\n",
    "import matplotlib as mpl\n",
    "import matplotlib.pyplot as plt\n",
    "from pylab import savefig\n",
    "\n",
    "\n",
    "# Analysis with Random Forests \n",
    "\n",
    "from sklearn.ensemble import RandomForestRegressor, RandomForestClassifier\n",
    "from sklearn.metrics import roc_curve, auc\n",
    "from sklearn.svm import SVC \n",
    "\n"
   ]
  },
  {
   "cell_type": "markdown",
   "metadata": {},
   "source": [
    "## Get the data"
   ]
  },
  {
   "cell_type": "code",
   "execution_count": 3,
   "metadata": {
    "collapsed": false
   },
   "outputs": [],
   "source": [
    "# Set the appropriate path\n",
    "\n",
    "path = '/Users/KevinSun/Documents/Data Science/'\n"
   ]
  },
  {
   "cell_type": "code",
   "execution_count": 4,
   "metadata": {
    "collapsed": false
   },
   "outputs": [],
   "source": [
    "# Training set \n",
    "\n",
    "\n",
    "file = 'train.csv'\n",
    "\n",
    "path + file\n",
    "\n",
    "trolls_train = pd.read_csv(path+file)"
   ]
  },
  {
   "cell_type": "code",
   "execution_count": 5,
   "metadata": {
    "collapsed": false
   },
   "outputs": [
    {
     "data": {
      "text/plain": [
       "(3947, 3)"
      ]
     },
     "execution_count": 5,
     "metadata": {},
     "output_type": "execute_result"
    }
   ],
   "source": [
    "#Looking at the dimensions of our dataset\n",
    "trolls_train.shape"
   ]
  },
  {
   "cell_type": "code",
   "execution_count": 6,
   "metadata": {
    "collapsed": false
   },
   "outputs": [
    {
     "data": {
      "text/html": [
       "<div>\n",
       "<table border=\"1\" class=\"dataframe\">\n",
       "  <thead>\n",
       "    <tr style=\"text-align: right;\">\n",
       "      <th></th>\n",
       "      <th>Insult</th>\n",
       "      <th>Date</th>\n",
       "      <th>Comment</th>\n",
       "    </tr>\n",
       "  </thead>\n",
       "  <tbody>\n",
       "    <tr>\n",
       "      <th>0</th>\n",
       "      <td>1</td>\n",
       "      <td>20120618192155Z</td>\n",
       "      <td>\"You fuck your dad.\"</td>\n",
       "    </tr>\n",
       "    <tr>\n",
       "      <th>1</th>\n",
       "      <td>0</td>\n",
       "      <td>20120528192215Z</td>\n",
       "      <td>\"i really don't understand your point.\\xa0 It ...</td>\n",
       "    </tr>\n",
       "    <tr>\n",
       "      <th>2</th>\n",
       "      <td>0</td>\n",
       "      <td>NaN</td>\n",
       "      <td>\"A\\\\xc2\\\\xa0majority of Canadians can and has ...</td>\n",
       "    </tr>\n",
       "    <tr>\n",
       "      <th>3</th>\n",
       "      <td>0</td>\n",
       "      <td>NaN</td>\n",
       "      <td>\"listen if you dont wanna get married to a man...</td>\n",
       "    </tr>\n",
       "    <tr>\n",
       "      <th>4</th>\n",
       "      <td>0</td>\n",
       "      <td>20120619094753Z</td>\n",
       "      <td>\"C\\xe1c b\\u1ea1n xu\\u1ed1ng \\u0111\\u01b0\\u1edd...</td>\n",
       "    </tr>\n",
       "  </tbody>\n",
       "</table>\n",
       "</div>"
      ],
      "text/plain": [
       "   Insult             Date                                            Comment\n",
       "0       1  20120618192155Z                               \"You fuck your dad.\"\n",
       "1       0  20120528192215Z  \"i really don't understand your point.\\xa0 It ...\n",
       "2       0              NaN  \"A\\\\xc2\\\\xa0majority of Canadians can and has ...\n",
       "3       0              NaN  \"listen if you dont wanna get married to a man...\n",
       "4       0  20120619094753Z  \"C\\xe1c b\\u1ea1n xu\\u1ed1ng \\u0111\\u01b0\\u1edd..."
      ]
     },
     "execution_count": 6,
     "metadata": {},
     "output_type": "execute_result"
    }
   ],
   "source": [
    "#Examine the first few rows of our dataset \n",
    "trolls_train.head()"
   ]
  },
  {
   "cell_type": "markdown",
   "metadata": {},
   "source": [
    "## Clean the formatting"
   ]
  },
  {
   "cell_type": "code",
   "execution_count": 7,
   "metadata": {
    "collapsed": true
   },
   "outputs": [],
   "source": [
    "# Importing Natural Language Toolkit \n",
    "import nltk"
   ]
  },
  {
   "cell_type": "code",
   "execution_count": 8,
   "metadata": {
    "collapsed": false
   },
   "outputs": [
    {
     "name": "stdout",
     "output_type": "stream",
     "text": [
      "[nltk_data] Downloading package stopwords to\n",
      "[nltk_data]     /Users/kevinsun/nltk_data...\n",
      "[nltk_data]   Package stopwords is already up-to-date!\n",
      "[nltk_data] Downloading package wordnet to\n",
      "[nltk_data]     /Users/kevinsun/nltk_data...\n",
      "[nltk_data]   Package wordnet is already up-to-date!\n",
      "[nltk_data] Downloading package maxent_treebank_pos_tagger to\n",
      "[nltk_data]     /Users/kevinsun/nltk_data...\n",
      "[nltk_data]   Package maxent_treebank_pos_tagger is already up-to-\n",
      "[nltk_data]       date!\n"
     ]
    },
    {
     "data": {
      "text/plain": [
       "True"
      ]
     },
     "execution_count": 8,
     "metadata": {},
     "output_type": "execute_result"
    }
   ],
   "source": [
    "nltk.download(\"stopwords\")\n",
    "nltk.download(\"wordnet\")\n",
    "nltk.download(\"maxent_treebank_pos_tagger\")"
   ]
  },
  {
   "cell_type": "code",
   "execution_count": 9,
   "metadata": {
    "collapsed": false
   },
   "outputs": [],
   "source": [
    "def trolls_clean(inputdata):\n",
    "\n",
    "    lines = []\n",
    "    for row in inputdata:\n",
    "        #parsing HTML\n",
    "        line = BeautifulSoup(str(inputdata), \"html.parser\")\n",
    "        #replace emails with _EM tags\n",
    "        line = re.sub(r'[\\w\\-][\\w\\-\\.]+@[\\w\\-][\\w\\-\\.]+[a-zA-Z]{1,4}', '_EM', str(line))\n",
    "        #replace url's with tags\n",
    "        line = re.sub(r'\\w+:\\/\\/\\S+', r'_U', line)\n",
    "\n",
    "        ### Format white space\n",
    "        line = line.replace('\\\\xa0', ' ')\n",
    "        line = line.replace('\"', ' ')\n",
    "        line = line.replace('\\'', '')\n",
    "        line = line.replace('_', ' ')\n",
    "        line = line.replace('-', ' ')\n",
    "        line = line.replace('\\n', ' ')\n",
    "        line = line.replace('\\\\n', ' ')\n",
    "        line = line.replace('\\'', ' ')\n",
    "        line = re.sub(' +', ' ', line)\n",
    "        line = line.replace('\\'', ' ')\n",
    "\n",
    "        #punctuations and other issues\n",
    "        line = re.sub(r'([^\\.])(\\.{2,})', r'\\1 _SS\\n', line)\n",
    "        line = re.sub(r'([^!\\?])(\\?{2,})(\\Z|[^!\\?])', r'\\1 _BQ\\n\\3', line)\n",
    "        line = re.sub(r'([^!\\?])\\?(\\Z|[^!\\?])', r'\\1 _Q\\n\\2',line)\n",
    "        line = re.sub(r'([^!\\?])!(\\Z|[^!\\?])', r'\\1 _X\\n\\2', line)\n",
    "        line = re.sub(r'([a-zA-Z])\\1\\1+(\\w*)', r'\\1_EL', line)\n",
    "        line = re.sub(r'([a-zA-Z])\\1\\1+(\\w*)', r'\\1_EL', line)\n",
    "        line = re.sub(r'(\\w+)\\.(\\w+)', r'\\1\\2', line)\n",
    "\n",
    "        lines.append(line)\n",
    "\n",
    "        #unigrams as phrases\n",
    "        phrases = re.split(r'[;:\\.()\\n]', line)\n",
    "        phrases = [re.findall(r'[\\w%\\*&#]+', ph) for ph in phrases]\n",
    "        phrases = [ph for ph in phrases if ph]\n",
    "\n",
    "        words = []  \n",
    "\n",
    "        for ph in phrases:\n",
    "            words.extend(ph)\n",
    "\n",
    "        tmp = words\n",
    "        words = []\n",
    "        new_word = ''\n",
    "        for word in tmp:\n",
    "            if len(word) == 1:\n",
    "                new_word = new_word + word\n",
    "            else:\n",
    "                if new_word:\n",
    "                    words.append(new_word)\n",
    "                    new_word = ''\n",
    "                words.append(word)\n",
    "\n",
    "        # stopwords\n",
    "        words = [w for w in words if not w in stopwords.words(\"english\")]  \n",
    "\n",
    "        #Lemmatizing\n",
    "        lemmatizer = WordNetLemmatizer()\n",
    "\n",
    "        tagged = []\n",
    "\n",
    "        for t in words:\n",
    "            t=t.lower()\n",
    "            treebank_tag = pos_tag([t])\n",
    "            tagged.append(treebank_tag)\n",
    "        \n",
    "        def get_wordnet_pos(tagged):\n",
    "            if treebank_tag[0][1].startswith('J'):\n",
    "                return wordnet.ADJ\n",
    "            elif treebank_tag[0][1].startswith('V'):\n",
    "                return wordnet.VERB\n",
    "            elif treebank_tag[0][1].startswith('N'):\n",
    "                return wordnet.NOUN\n",
    "            elif treebank_tag[0][1].startswith('R'):\n",
    "                return wordnet.ADV\n",
    "            else:\n",
    "                return wordnet.NOUN\n",
    "\n",
    "        postagged = []\n",
    "        for t in tagged:\n",
    "            newtag = t[0][0], get_wordnet_pos(t)\n",
    "            postagged.append(newtag)\n",
    "\n",
    "        lemmatized = []\n",
    "        for t in postagged:\n",
    "            lemmatized.append(lemmatizer.lemmatize(t[0], t[1]))\n",
    "\n",
    "        for t in lemmatized:\n",
    "            t = np.asarray(t)\n",
    "    \n",
    "        return (lemmatized)"
   ]
  },
  {
   "cell_type": "code",
   "execution_count": 10,
   "metadata": {
    "collapsed": false
   },
   "outputs": [],
   "source": [
    "# Create the cleaned training data\n",
    "\n",
    "trolls_train_x = trolls_train.Comment.apply(trolls_clean)"
   ]
  },
  {
   "cell_type": "code",
   "execution_count": 11,
   "metadata": {
    "collapsed": false
   },
   "outputs": [
    {
     "data": {
      "text/plain": [
       "0                                        [you, fuck, dad]\n",
       "1       [really, dont, understand, point, it, seems, m...\n",
       "2       [a, xc2, majority, canadian, wrong, unless, yo...\n",
       "3       [listen, dont, wanna, get, married, man, woman...\n",
       "4       [c, xe1c, b, u1ea1n, xu, u1ed1ng, u0111, u01b0...\n",
       "5       [sdl, ok, i, would, hope, theyd, sign, one, ye...\n",
       "6                                              [yeah, _q]\n",
       "7       [shut, fuck, rest, faggot, friend, burned, stake]\n",
       "8       [either, fake, extremely, stupid, _ss, maybe, ...\n",
       "9       [that, idiot, understands, neither, taxation, ...\n",
       "10      [jdstorm, dont, wish, injury, happen, own, dou...\n",
       "11                     [be, careful, jimboog, fork, name]\n",
       "12                     [tonnyb, or, dont, pay, attention]\n",
       "13      [hm_el, perhaps, pig, face, get, lay, therefor...\n",
       "14      [barrettmarson, huh, _q, her, income, 21, 912,...\n",
       "15      [for, some, reason, u, sound, retarded, lol, d...\n",
       "16      [you, racist, screen, name, you, pieceofshit, ...\n",
       "17      [oh, _x, &amp, cheating, well, _ss, 1966, cup,...\n",
       "18                                        [dickhead, _ss]\n",
       "19                 [your, retard, go, post, head, #%&amp]\n",
       "20      [eephusblue, make, want, say, mike, macwhogal,...\n",
       "21                                                     []\n",
       "22           [and, know, theyve, burned, hole, carpeting]\n",
       "23               [land, creature, you, would, drown, _ss]\n",
       "24      [to, doom, gloomers, chicken, little, claim, s...\n",
       "25      [craig, saying, start, entertaining, show, it,...\n",
       "26      [strange, talking, chelsea, fan, belittling, c...\n",
       "27                   [but, would, actually, get, key, _q]\n",
       "28            [oh, cool, internet, point, collection, _x]\n",
       "29      [even, though, i, think, better, coach, i, gla...\n",
       "                              ...                        \n",
       "3917                                       [no, shit, _x]\n",
       "3918    [clark, need, stop, pushing, pulling, let, go,...\n",
       "3919                                             [faggot]\n",
       "3920            [you, really, like, lemming, jump, cliff]\n",
       "3921                      [logic, also, legalize, heroin]\n",
       "3922    [the, go, p, cry, want, ther, one, screwed, li...\n",
       "3923                             [mikieboy, in, nutshell]\n",
       "3924    [crissa, disqus, laraza, the, race, nbp, natio...\n",
       "3925    [hey, republican, determined, stake, territory...\n",
       "3926    [nah, good, folk, good, music, pours, place, _...\n",
       "3927    [hey, nutbag, _ss, youre, traitor, _ss, obama,...\n",
       "3928                         [youre, avatar, fail, loser]\n",
       "3929    [why, dont, shut, stupid, mouth, pennylane, _q...\n",
       "3930    [we, didnt, even, know, rebel, really, really,...\n",
       "3931    [you, goofy, repub, thug, dont, clue, tiniest,...\n",
       "3932    [socaljim, div, br, div, div, nope, kelly, sta...\n",
       "3933    [ritual, reality, no, i, simply, saying, back,...\n",
       "3934    [true, maybe, hes, deliberately, assh*le, self...\n",
       "3935    [joelweltman, look, like, pedophile, picture, ...\n",
       "3936    [little, high, point, i, think, miami, handle,...\n",
       "3937    [your, yellowstone, fly, fishing, report, _ss,...\n",
       "3938    [mro, proof, show, liberals, want, remove, ill...\n",
       "3939    [the, ignorant, person, think, registered, rep...\n",
       "3940                                [oh, many, car, like]\n",
       "3941    [sara, besleaga, griji, doruri, sau, dorin, xc...\n",
       "3942                              [morons, never, happen]\n",
       "3943    [many, toolbars, include, spell, check, like, ...\n",
       "3944    [lambeauorwrigley, em, sioux, fall, sd, i, tol...\n",
       "3945    [how, felix, _q, he, sure, turning, one, hell,...\n",
       "3946    [youre, upset, defending, hipster, band, _ss, ...\n",
       "Name: Comment, dtype: object"
      ]
     },
     "execution_count": 11,
     "metadata": {},
     "output_type": "execute_result"
    }
   ],
   "source": [
    "trolls_train_x"
   ]
  },
  {
   "cell_type": "markdown",
   "metadata": {},
   "source": [
    "## Supervised Learning with the Data\n",
    "\n",
    "We can apply a number of supervised learning approaches\n",
    "to this problem. Here we will use RF."
   ]
  },
  {
   "cell_type": "code",
   "execution_count": 12,
   "metadata": {
    "collapsed": false
   },
   "outputs": [],
   "source": [
    "# Convert the cleaned data into a TF-IDF matrix that \n",
    "# can provide the supervised learning input.\n",
    "# This will turn the text strings into vectors.\n",
    "    \n",
    "swds = stopwords.words('english')\n",
    "vect = TfidfVectorizer(analyzer = \"word\",input=\"file\", ngram_range = (1,3),\\\n",
    "                       min_df = 0, stop_words = swds, max_features=5000)\n",
    "\n",
    "\n",
    "# StringIO implments the StringIO class\n",
    "# that allows us to read and write string buffer or\n",
    "# memory file\n",
    "\n",
    "docs_new = [StringIO(str(x)) for x in trolls_train_x]\n",
    "trolls_tf = vect.fit_transform(docs_new).toarray()\n",
    "\n",
    "   "
   ]
  },
  {
   "cell_type": "code",
   "execution_count": 13,
   "metadata": {
    "collapsed": false
   },
   "outputs": [
    {
     "name": "stdout",
     "output_type": "stream",
     "text": [
      "0                   000\n",
      "1                    06\n",
      "2                    07\n",
      "3                    08\n",
      "4                 0bama\n",
      "5              0bama uu\n",
      "6         0bama uu 2o12\n",
      "7                    10\n",
      "8               10 year\n",
      "9                   100\n",
      "10                 1000\n",
      "11                 10th\n",
      "12                   11\n",
      "13                   12\n",
      "14                   13\n",
      "15                   14\n",
      "16                   15\n",
      "17           15 million\n",
      "18                   16\n",
      "19                   17\n",
      "20                   18\n",
      "21         18 remaining\n",
      "22                 1866\n",
      "23                   19\n",
      "24                 1959\n",
      "25                 1961\n",
      "26                 1970\n",
      "27                 1971\n",
      "28                 1973\n",
      "29                 1975\n",
      "             ...       \n",
      "970          consenting\n",
      "971    consenting adult\n",
      "972         consequence\n",
      "973        conservative\n",
      "974       conservatives\n",
      "975            consider\n",
      "976          considered\n",
      "977         considering\n",
      "978          consistent\n",
      "979          conspiracy\n",
      "980          constantly\n",
      "981        constitution\n",
      "982             contact\n",
      "983             content\n",
      "984            continue\n",
      "985           continued\n",
      "986          continuous\n",
      "987            contract\n",
      "988          contribute\n",
      "989        contribution\n",
      "990         contributor\n",
      "991             control\n",
      "992        conversation\n",
      "993             convert\n",
      "994           convicted\n",
      "995            convince\n",
      "996                cool\n",
      "997                 cop\n",
      "998                copy\n",
      "999                core\n",
      "dtype: object\n"
     ]
    }
   ],
   "source": [
    "# We can see the output vocabulary from the vectorizer, \n",
    "# This shows a list of all of the distinct terms in the corpus.\n",
    "   \n",
    "vocab = vect.get_feature_names()\n",
    "print(pd.Series(vocab)[:1000])\n",
    "   "
   ]
  },
  {
   "cell_type": "code",
   "execution_count": 14,
   "metadata": {
    "collapsed": false
   },
   "outputs": [],
   "source": [
    "# Test data\n",
    "\n",
    "file = 'impermium_verification_labels.csv'\n",
    "\n",
    "trolls_test = pd.read_csv(path + file)"
   ]
  },
  {
   "cell_type": "code",
   "execution_count": 15,
   "metadata": {
    "collapsed": false
   },
   "outputs": [],
   "source": [
    "# Clean the test data\n",
    "# Test Data cleaning\n",
    "\n",
    "trolls_test_x = trolls_test[\"Comment\"].apply(trolls_clean)"
   ]
  },
  {
   "cell_type": "code",
   "execution_count": 16,
   "metadata": {
    "collapsed": true
   },
   "outputs": [],
   "source": [
    "# Get the TF-IDF matrixfor the test data\n",
    "\n",
    "#vect1 = TfidfVectorizer(analyzer = \"word\",input=\"file\", ngram_range = (1,3), min_df = 0, stop_words = swds)\n",
    "docs_new_test = [StringIO(str(x)) for x in trolls_test_x]\n",
    "trolls_tf_test = vect.fit_transform(docs_new_test).toarray()\n",
    "\n",
    "\n"
   ]
  },
  {
   "cell_type": "code",
   "execution_count": 17,
   "metadata": {
    "collapsed": true
   },
   "outputs": [],
   "source": [
    "# Random Forest \n",
    "\n",
    "from sklearn.ensemble import RandomForestRegressor, RandomForestClassifier\n",
    "from sklearn.metrics import roc_curve, auc\n"
   ]
  },
  {
   "cell_type": "code",
   "execution_count": 18,
   "metadata": {
    "collapsed": false
   },
   "outputs": [
    {
     "data": {
      "text/plain": [
       "RandomForestClassifier(bootstrap=True, class_weight=None, criterion='gini',\n",
       "            max_depth=10, max_features=1000, max_leaf_nodes=None,\n",
       "            min_samples_leaf=1, min_samples_split=2,\n",
       "            min_weight_fraction_leaf=0.0, n_estimators=1000, n_jobs=1,\n",
       "            oob_score=False, random_state=None, verbose=0,\n",
       "            warm_start=False)"
      ]
     },
     "execution_count": 18,
     "metadata": {},
     "output_type": "execute_result"
    }
   ],
   "source": [
    "# Get RF model\n",
    "\n",
    "rf = RandomForestClassifier(n_estimators = 1000,\\\n",
    "                            max_depth = 10, max_features = 1000)\n",
    "\n",
    "\n",
    "rf.fit(trolls_tf, trolls_train[\"Insult\"])"
   ]
  },
  {
   "cell_type": "code",
   "execution_count": 19,
   "metadata": {
    "collapsed": false
   },
   "outputs": [
    {
     "name": "stdout",
     "output_type": "stream",
     "text": [
      "0.517673378076\n"
     ]
    }
   ],
   "source": [
    "# Test set for rf\n",
    "\n",
    "print(rf.score(trolls_tf_test, trolls_test[\"Insult\"]))"
   ]
  },
  {
   "cell_type": "code",
   "execution_count": 20,
   "metadata": {
    "collapsed": false
   },
   "outputs": [
    {
     "name": "stdout",
     "output_type": "stream",
     "text": [
      "Random Forest benchmark AUC, 1000 estimators\n",
      "0.513304163199\n"
     ]
    }
   ],
   "source": [
    "# ROC Curve\n",
    "\n",
    "# test_pred = rf.predict_proba(tf1)\n",
    "test_pred = rf.predict_proba(trolls_tf_test)\n",
    "\n",
    "troll_pred = test_pred[:,1]\n",
    "\n",
    "fpr, tpr, _ = roc_curve(trolls_test[\"Insult\"], troll_pred)\n",
    "roc_auc = auc(fpr, tpr)\n",
    "print(\"Random Forest benchmark AUC, 1000 estimators\")\n",
    "print(roc_auc)"
   ]
  },
  {
   "cell_type": "code",
   "execution_count": 21,
   "metadata": {
    "collapsed": false
   },
   "outputs": [
    {
     "data": {
      "image/png": "[encoded data removed]",
      "text/plain": [
       "<matplotlib.figure.Figure at 0x1221eab00>"
      ]
     },
     "metadata": {},
     "output_type": "display_data"
    }
   ],
   "source": [
    "import matplotlib.pyplot as plt\n",
    "\n",
    "plt.figure()\n",
    "lw = 2\n",
    "plt.plot(fpr, tpr, color='darkorange',\n",
    "         lw=lw, label='ROC curve (area = %0.2f)' % roc_auc)\n",
    "plt.plot([0, 1], [0, 1], color='navy', lw=lw, linestyle='--')\n",
    "plt.xlim([0.0, 1.0])\n",
    "plt.ylim([0.0, 1.05])\n",
    "plt.xlabel('False Positive Rate')\n",
    "plt.ylabel('True Positive Rate')\n",
    "plt.title('Receiver operating characteristic example')\n",
    "plt.legend(loc=\"lower right\")\n",
    "plt.show()"
   ]
  },
  {
   "cell_type": "markdown",
   "metadata": {},
   "source": [
    "### SVM Classifier"
   ]
  },
  {
   "cell_type": "code",
   "execution_count": 22,
   "metadata": {
    "collapsed": true
   },
   "outputs": [],
   "source": [
    "from sklearn.svm import SVC"
   ]
  },
  {
   "cell_type": "code",
   "execution_count": 23,
   "metadata": {
    "collapsed": false
   },
   "outputs": [
    {
     "data": {
      "text/plain": [
       "SVC(C=1.0, cache_size=200, class_weight=None, coef0=0.0,\n",
       "  decision_function_shape=None, degree=3, gamma='auto', kernel='rbf',\n",
       "  max_iter=-1, probability=True, random_state=None, shrinking=True,\n",
       "  tol=0.001, verbose=False)"
      ]
     },
     "execution_count": 23,
     "metadata": {},
     "output_type": "execute_result"
    }
   ],
   "source": [
    "# Get SVM\n",
    "sv = SVC(probability = True)\n",
    "\n",
    "\n",
    "sv.fit(trolls_tf, trolls_train[\"Insult\"])"
   ]
  },
  {
   "cell_type": "code",
   "execution_count": 24,
   "metadata": {
    "collapsed": false
   },
   "outputs": [
    {
     "name": "stdout",
     "output_type": "stream",
     "text": [
      "0.518120805369\n"
     ]
    }
   ],
   "source": [
    "# Test set for sv\n",
    "\n",
    "print(sv.score(trolls_tf_test, trolls_test[\"Insult\"]))"
   ]
  },
  {
   "cell_type": "code",
   "execution_count": 25,
   "metadata": {
    "collapsed": false
   },
   "outputs": [
    {
     "name": "stdout",
     "output_type": "stream",
     "text": [
      "Support Vector Classifier benchmark AUC\n",
      "0.474484150466\n"
     ]
    }
   ],
   "source": [
    "# ROC Curve\n",
    "\n",
    "# test_pred = rf.predict_proba(tf1)\n",
    "test_pred_sv = sv.predict_proba(trolls_tf_test)\n",
    "\n",
    "troll_pred_sv = test_pred_sv[:,1]\n",
    "\n",
    "fpr, tpr, _ = roc_curve(trolls_test[\"Insult\"], troll_pred_sv)\n",
    "roc_auc = auc(fpr, tpr)\n",
    "print(\"Support Vector Classifier benchmark AUC\")\n",
    "print(roc_auc)"
   ]
  },
  {
   "cell_type": "code",
   "execution_count": 26,
   "metadata": {
    "collapsed": false
   },
   "outputs": [
    {
     "data": {
      "image/png": "[encoded data removed]",
      "text/plain": [
       "<matplotlib.figure.Figure at 0x122383128>"
      ]
     },
     "metadata": {},
     "output_type": "display_data"
    }
   ],
   "source": [
    "import matplotlib.pyplot as plt\n",
    "\n",
    "plt.figure()\n",
    "lw = 2\n",
    "plt.plot(fpr, tpr, color='darkorange',\n",
    "         lw=lw, label='ROC curve (area = %0.2f)' % roc_auc)\n",
    "plt.plot([0, 1], [0, 1], color='navy', lw=lw, linestyle='--')\n",
    "plt.xlim([0.0, 1.0])\n",
    "plt.ylim([0.0, 1.05])\n",
    "plt.xlabel('False Positive Rate')\n",
    "plt.ylabel('True Positive Rate')\n",
    "plt.title('Receiver operating characteristic example')\n",
    "plt.legend(loc=\"lower right\")\n",
    "plt.show()"
   ]
  }
 ],
 "metadata": {
  "anaconda-cloud": {},
  "kernelspec": {
   "display_name": "Python [conda root]",
   "language": "python",
   "name": "conda-root-py"
  },
  "language_info": {
   "codemirror_mode": {
    "name": "ipython",
    "version": 3
   },
   "file_extension": ".py",
   "mimetype": "text/x-python",
   "name": "python",
   "nbconvert_exporter": "python",
   "pygments_lexer": "ipython3",
   "version": "3.5.2"
  }
 },
 "nbformat": 4,
 "nbformat_minor": 0
}
